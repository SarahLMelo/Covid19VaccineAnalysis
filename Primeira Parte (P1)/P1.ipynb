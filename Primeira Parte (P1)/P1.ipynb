{
  "nbformat": 4,
  "nbformat_minor": 0,
  "metadata": {
    "colab": {
      "provenance": [],
      "collapsed_sections": [
        "Iq-_KN67tFVt",
        "mIuclc2c7B0e",
        "uQjYiedyKoka"
      ]
    },
    "kernelspec": {
      "name": "python3",
      "display_name": "Python 3"
    },
    "language_info": {
      "name": "python"
    }
  },
  "cells": [
    {
      "cell_type": "markdown",
      "source": [
        "## Introduction and objectives"
      ],
      "metadata": {
        "id": "Iq-_KN67tFVt"
      }
    },
    {
      "cell_type": "markdown",
      "source": [
        "The covid pandemic changed the world for almost 2 years already. The way we work and live in society needed to be adapted control the spreading of the virus. Besides, many lifes have been lost due the disease, impacting not only socially but also reducing the life expectancy in some countries.\n",
        "\n",
        "The vaccine against COVID-19 was developed in record time. In Pernambuco, the place where we are analysing, the vaccine took a bit longer to start being distributed, it only started by March 2021. Therefore, we can analyse the data before this date to speculate what might have happened if vaccines hadn't been developed so fast."
      ],
      "metadata": {
        "id": "FnvnAKVS7Rrh"
      }
    },
    {
      "cell_type": "markdown",
      "source": [
        "## Model\n",
        "\n",
        "We're going to use two differents epidemic models, the **SEIRD** and the **SVIRS**. "
      ],
      "metadata": {
        "id": "mIuclc2c7B0e"
      }
    },
    {
      "cell_type": "markdown",
      "source": [
        "### SEIRD model\n",
        "https://www.siam.org/Portals/0/Documents/S136293PDF.pdf?ver=2021-04-16-103030-153\n",
        "\n",
        "The SEIRD model is an extension of a basic **SIR**, implemented by\n",
        "subdividing a population of size into:\n",
        "- **Susceptible** $S(t)$\n",
        "- **Exposed** $E(t)$\n",
        "- **Infectious** $I(t) = I_p(t) + I_a(t) + I_s(t)$\n",
        " - **Presymptomatic** $I_p(t)$\n",
        " - **Asymptomatic** $I_a(t)$\n",
        " - **Symptomatic** $I_s(t)$\n",
        "- **Recovered** $R(t)$\n",
        "- **Dead** $D(t)$\n",
        "\n",
        "where $t ≥ 0$. Therefore, we have:\n",
        "\n",
        "\\begin{align}\n",
        "N(t) & = S(t)+E(t)+I_p(t)+I_a(t)+I_s(t)+R(t) & \\\\\n",
        "\\frac{dN}{dt} & = - \\frac{dD}{dt}\n",
        "\\end{align}\n",
        "\n",
        "The movement rates between each subdivision are:\n",
        "- **Iteraction Coeficient** $β ≥ 0$\n",
        "- **Rate of Incubation** $σ ≥ 0$\n",
        " - The incubation period L of the disease is the period for which a person is infected but is not infectious, the inverse of this produces the rate of incubation $σ = \\frac{1}{L}$\n",
        "- **Presymptomatic Incubation Rate** $σ_p ≥ 0$\n",
        " - The presymptomatic incubation rate $σ_p = \\frac{1}{P}$ is given by the inverse of the presymptomatic period for an infected person, that is the period for which a person is infectious but does not yet show symptoms. This is assumed to be a constant value of P = 2 days.\n",
        "- **Probability of Asymptomatic Infection** $0 ≤ α ≤ 1$\n",
        " - The probability of asymptomatic infection α is the probability that following the presymptomatic period of infection the infected person will not develop symptoms. This is assumed to be 20%.\n",
        "- **Infectivity Reduction Factor** $0 ≤ h ≤ 1$\n",
        " - The infectivity reduction factor h is a multiplicative factor that reduces the transmission rate between between Susceptible people contained in S and Infectious people that do not present symptoms contained in Ip and Ia. This is taken as the arithmetic mean of the transmission rate between asymptomatic and susceptible individuals.\n",
        "- **Rate of Recovery** $γ ≥ 0$\n",
        " - The infectious period D is also known to vary from person to person and is taken from a uniform distribution in the interval [3,9] within the model, with the rate of recovery taken as the inverse of this infectious period γ = 1/D\n",
        "- **Mortality** $0 ≤ µ ≤ 1$\n",
        " - Mortality is given as a probability of death at the end of the infectious period.\n",
        "\n",
        "###(ver table 4 da pág 13 do pdf do link - alguns parâmetros precisam ser ajustados para a realidade brasileira)\n",
        "\n",
        "This version of the SEIRD model allows for a potentially lethal disease to be modelled through the inclusion of the D compartment, while also allowing for different rates of transmission depending on if symptoms are present by considering the Ip, Ia and Is compartments as previously described. The movements between compartments is then given by the following system of ODEs:\n",
        "\n",
        "\\begin{align}\n",
        "\\frac{{\\rm d}S}{{\\rm d}t} & = - \\frac{S}{N}\\beta\\bigg(I_s + h(I_a + I_p)\\bigg) & \\\\ \\\\\n",
        "\\frac{{\\rm d}E}{{\\rm d}t} & = \\frac{S}{N}\\beta\\bigg(I_s + h(I_a + I_p)\\bigg) -\\sigma E\\\\ \\\\\n",
        "\\frac{{\\rm d}I_p}{{\\rm d}t} & = \\sigma E - \\sigma_p I_p\\\\ \\\\\n",
        "\\frac{{\\rm d}I_a}{{\\rm d}t} & = \\alpha \\sigma_p I_p - \\gamma I_a \\\\ \\\\\n",
        "\\frac{{\\rm d}I_s}{{\\rm d}t} & = (1-\\alpha) \\sigma_p I_p - \\gamma I_s \\\\ \\\\\n",
        "\\frac{{\\rm d}R}{{\\rm d}t} & = \\gamma (1-\\mu) (I_a + i_s)\\\\ \\\\\n",
        "\\frac{{\\rm d}D}{{\\rm d}t} & = \\gamma \\mu (I_a + i_s)\\\\\n",
        "\\end{align}"
      ],
      "metadata": {
        "id": "i4_jszPDzUHN"
      }
    },
    {
      "cell_type": "markdown",
      "source": [
        "### SVIRS model\n",
        "\n",
        "This model is a variant of **SIR's** model that includes a new group to describe the population: the vaccinated. The **SVIRS** model also consider the possiblity of reinfection, this means that the acquired immunity after being vaccinated or after being recovered from the disease is not lifelong and, for this reason, the person can return to the succetibles group and being infected again.\n",
        "\n",
        "In SVIRS model, the total population is divided into three groups:\n",
        "\n",
        "* **Susceptibles $S(t)$**: individuals that can be part of infected group. \n",
        "* **Vaccinated $V(t)$**: individuals that are vaccinated with two doses and because of that had less chance to beeing infected.\n",
        "* **Infected $I(t)$**: individuals infected with the disease.\n",
        "* **Recovered $R(t)$**: individuals who were infected but now are recovered, having a period of immunity before becoming susceptible again. This is one of the differences from the SVIRS model to the SIR. In the SIR, the recovered have lifelong immunity and cannot become susceptible again.\n",
        "\n",
        "So the total population is described as:\n",
        "\n",
        "\\begin{align}\n",
        "N(t) = S(t) + V(t) + I(t) + R(t)\n",
        "\\end{align}\n",
        "\n",
        "This model is described by the following ODEs:\n",
        "\n",
        "\\begin{align}\n",
        "\\frac{{\\rm d}S}{{\\rm d}t} & = \\omega_rR - λS + \\omega_vV - ΦS &\\\\ \\\\\n",
        "\\frac{{\\rm d}V}{{\\rm d}t} & = -(1 - Ψ)λV - \\omega_vV + ΦS \\\\ \\\\\n",
        "\\frac{{\\rm d}I}{{\\rm d}t} & = λS + (1 - ψ)λV - γI \\\\ \\\\\n",
        "\\frac{{\\rm d}R}{{\\rm d}t} & = γI - ω_rR\n",
        "\\end{align}\n",
        "\n",
        "Where:\n",
        "\n",
        "1. $λ$ represents the infection rate per person and it is defined by $λ = \\frac{βI}{N}$.\n",
        "2. $β$ represents the probability of transmitting the disease between an susceptible and a infected individual.\n",
        "3. $γ$ represents the recorvery rate and it is determined by $γ = \\frac{1}{D}$ where $D$ is the average duration of inffection in days.\n",
        "4. $\\omega_r$ represents the rate that a recovered individual comeback to susceptibles' group because of immunity loss.\n",
        "5. $\\omega_v$ represents the rate that vaccinated individuals comeback do succeptibles' group because of immunity loss.\n",
        "6. $Φ$ represents the vaccination rate.\n",
        "7. $ψ$ represents the vaccine efficieny rate. \n",
        "\n"
      ],
      "metadata": {
        "id": "WB2d9Yn864Vw"
      }
    },
    {
      "cell_type": "markdown",
      "source": [
        "##Parâmetros\n",
        "\n",
        "To analise each one of the sceanrios that will be modeled, it would be necessary adjust the model parameters. We know that the vaccine efficiency rate varies between your manufacturer (CoronaVac, AstraZeneca, Pfizer, Jansen...), so with the aim of seeking a higher precision, we will utilize a weighted average of the efficacies of these different variations of the coronavirus vaccine and the percentage of doses that were applied. \n",
        "\n",
        "##Cálculo da Eficácia Média $→$ $\\psi$\n",
        "\n"
      ],
      "metadata": {
        "id": "5P2HSi0dVVoq"
      }
    },
    {
      "cell_type": "markdown",
      "source": [
        "## Resultados e discussão"
      ],
      "metadata": {
        "id": "uQjYiedyKoka"
      }
    },
    {
      "cell_type": "code",
      "source": [
        "import matplotlib.pyplot as plt\n",
        "import matplotlib.dates as mdates\n",
        "import pandas as pd\n",
        "import numpy as np\n",
        "import requests\n",
        "from scipy.integrate import odeint"
      ],
      "metadata": {
        "id": "QP3kIbsJaHAN"
      },
      "execution_count": null,
      "outputs": []
    },
    {
      "cell_type": "code",
      "source": [
        "# Primeiramente, vamos baixar o nosso dataset sobre a COVID-19 em Pernambuco\n",
        "URL = \"https://raw.githubusercontent.com/SarahLMelo/Covid19VaccineAnalysis/main/COVID-19%20em%20Dados.csv?token=GHSAT0AAAAAABWBDR4RCTNKM6UO6SAS4HQYYYRLVCQ\"\n",
        "response = requests.get(URL)\n",
        "open(\"dataset.csv\", \"wb\").write(response.content)\n",
        "\n",
        "# Agora iremos extrair os dados do nosso dataset (que é um arquivo de extensão .CSV) e armazena-los em um DataFrame do Pandas\n",
        "dataset = pd.read_csv('/content/dataset.csv', sep=',', on_bad_lines='skip')\n",
        "dataset.tail()"
      ],
      "metadata": {
        "colab": {
          "base_uri": "https://localhost:8080/",
          "height": 270
        },
        "id": "rSbhUKqyabgT",
        "outputId": "19c072db-fb76-4595-d554-07b81d6db3a5"
      },
      "execution_count": null,
      "outputs": [
        {
          "output_type": "execute_result",
          "data": {
            "text/plain": [
              "    dt_referencia  dt_atualizacao  confirmados  obitos  tx_obitos  \\\n",
              "867    2022-08-18             NaN      1042635   22142      0.021   \n",
              "868    2022-08-19             NaN      1043102   22146      0.021   \n",
              "869    2022-08-20             NaN      1043225   22151      0.021   \n",
              "870    2022-08-21             NaN      1043280   22156      0.021   \n",
              "871    2022-08-22             NaN      1044002   22160      0.021   \n",
              "\n",
              "     recuperados  tx_recuperados  isolamento  tx_isolamento  enfermaria  \\\n",
              "867       894397           0.858          45            0.0         739   \n",
              "868       896042           0.859          45            0.0         739   \n",
              "869       896142           0.859          45            0.0         739   \n",
              "870       896148           0.859          45            0.0         739   \n",
              "871       896758           0.859          45            0.0         739   \n",
              "\n",
              "     tx_enfermaria  uti  tx_uti  testes_novos  testes_acumulados  tx_testes  \\\n",
              "867          0.005  615   0.001          4510            4542139     473139   \n",
              "868          0.005  615   0.001          3784            4545923     473534   \n",
              "869          0.005  615   0.001          1614            4547537     473702   \n",
              "870          0.005  615   0.001          1242            4548779     473831   \n",
              "871          0.005  615   0.001          4564            4553343     474307   \n",
              "\n",
              "     leitos_uti  tx_oc_uti  leitos_enf  tc_oc_enf  \n",
              "867         616       0.70         555       0.53  \n",
              "868         616       0.69         555       0.49  \n",
              "869         616       0.71         555       0.50  \n",
              "870         615       0.71         555       0.50  \n",
              "871         615       0.69         555       0.45  "
            ],
            "text/html": [
              "\n",
              "  <div id=\"df-84ea60d8-50f7-40e0-8a19-30e2f990e08f\">\n",
              "    <div class=\"colab-df-container\">\n",
              "      <div>\n",
              "<style scoped>\n",
              "    .dataframe tbody tr th:only-of-type {\n",
              "        vertical-align: middle;\n",
              "    }\n",
              "\n",
              "    .dataframe tbody tr th {\n",
              "        vertical-align: top;\n",
              "    }\n",
              "\n",
              "    .dataframe thead th {\n",
              "        text-align: right;\n",
              "    }\n",
              "</style>\n",
              "<table border=\"1\" class=\"dataframe\">\n",
              "  <thead>\n",
              "    <tr style=\"text-align: right;\">\n",
              "      <th></th>\n",
              "      <th>dt_referencia</th>\n",
              "      <th>dt_atualizacao</th>\n",
              "      <th>confirmados</th>\n",
              "      <th>obitos</th>\n",
              "      <th>tx_obitos</th>\n",
              "      <th>recuperados</th>\n",
              "      <th>tx_recuperados</th>\n",
              "      <th>isolamento</th>\n",
              "      <th>tx_isolamento</th>\n",
              "      <th>enfermaria</th>\n",
              "      <th>tx_enfermaria</th>\n",
              "      <th>uti</th>\n",
              "      <th>tx_uti</th>\n",
              "      <th>testes_novos</th>\n",
              "      <th>testes_acumulados</th>\n",
              "      <th>tx_testes</th>\n",
              "      <th>leitos_uti</th>\n",
              "      <th>tx_oc_uti</th>\n",
              "      <th>leitos_enf</th>\n",
              "      <th>tc_oc_enf</th>\n",
              "    </tr>\n",
              "  </thead>\n",
              "  <tbody>\n",
              "    <tr>\n",
              "      <th>867</th>\n",
              "      <td>2022-08-18</td>\n",
              "      <td>NaN</td>\n",
              "      <td>1042635</td>\n",
              "      <td>22142</td>\n",
              "      <td>0.021</td>\n",
              "      <td>894397</td>\n",
              "      <td>0.858</td>\n",
              "      <td>45</td>\n",
              "      <td>0.0</td>\n",
              "      <td>739</td>\n",
              "      <td>0.005</td>\n",
              "      <td>615</td>\n",
              "      <td>0.001</td>\n",
              "      <td>4510</td>\n",
              "      <td>4542139</td>\n",
              "      <td>473139</td>\n",
              "      <td>616</td>\n",
              "      <td>0.70</td>\n",
              "      <td>555</td>\n",
              "      <td>0.53</td>\n",
              "    </tr>\n",
              "    <tr>\n",
              "      <th>868</th>\n",
              "      <td>2022-08-19</td>\n",
              "      <td>NaN</td>\n",
              "      <td>1043102</td>\n",
              "      <td>22146</td>\n",
              "      <td>0.021</td>\n",
              "      <td>896042</td>\n",
              "      <td>0.859</td>\n",
              "      <td>45</td>\n",
              "      <td>0.0</td>\n",
              "      <td>739</td>\n",
              "      <td>0.005</td>\n",
              "      <td>615</td>\n",
              "      <td>0.001</td>\n",
              "      <td>3784</td>\n",
              "      <td>4545923</td>\n",
              "      <td>473534</td>\n",
              "      <td>616</td>\n",
              "      <td>0.69</td>\n",
              "      <td>555</td>\n",
              "      <td>0.49</td>\n",
              "    </tr>\n",
              "    <tr>\n",
              "      <th>869</th>\n",
              "      <td>2022-08-20</td>\n",
              "      <td>NaN</td>\n",
              "      <td>1043225</td>\n",
              "      <td>22151</td>\n",
              "      <td>0.021</td>\n",
              "      <td>896142</td>\n",
              "      <td>0.859</td>\n",
              "      <td>45</td>\n",
              "      <td>0.0</td>\n",
              "      <td>739</td>\n",
              "      <td>0.005</td>\n",
              "      <td>615</td>\n",
              "      <td>0.001</td>\n",
              "      <td>1614</td>\n",
              "      <td>4547537</td>\n",
              "      <td>473702</td>\n",
              "      <td>616</td>\n",
              "      <td>0.71</td>\n",
              "      <td>555</td>\n",
              "      <td>0.50</td>\n",
              "    </tr>\n",
              "    <tr>\n",
              "      <th>870</th>\n",
              "      <td>2022-08-21</td>\n",
              "      <td>NaN</td>\n",
              "      <td>1043280</td>\n",
              "      <td>22156</td>\n",
              "      <td>0.021</td>\n",
              "      <td>896148</td>\n",
              "      <td>0.859</td>\n",
              "      <td>45</td>\n",
              "      <td>0.0</td>\n",
              "      <td>739</td>\n",
              "      <td>0.005</td>\n",
              "      <td>615</td>\n",
              "      <td>0.001</td>\n",
              "      <td>1242</td>\n",
              "      <td>4548779</td>\n",
              "      <td>473831</td>\n",
              "      <td>615</td>\n",
              "      <td>0.71</td>\n",
              "      <td>555</td>\n",
              "      <td>0.50</td>\n",
              "    </tr>\n",
              "    <tr>\n",
              "      <th>871</th>\n",
              "      <td>2022-08-22</td>\n",
              "      <td>NaN</td>\n",
              "      <td>1044002</td>\n",
              "      <td>22160</td>\n",
              "      <td>0.021</td>\n",
              "      <td>896758</td>\n",
              "      <td>0.859</td>\n",
              "      <td>45</td>\n",
              "      <td>0.0</td>\n",
              "      <td>739</td>\n",
              "      <td>0.005</td>\n",
              "      <td>615</td>\n",
              "      <td>0.001</td>\n",
              "      <td>4564</td>\n",
              "      <td>4553343</td>\n",
              "      <td>474307</td>\n",
              "      <td>615</td>\n",
              "      <td>0.69</td>\n",
              "      <td>555</td>\n",
              "      <td>0.45</td>\n",
              "    </tr>\n",
              "  </tbody>\n",
              "</table>\n",
              "</div>\n",
              "      <button class=\"colab-df-convert\" onclick=\"convertToInteractive('df-84ea60d8-50f7-40e0-8a19-30e2f990e08f')\"\n",
              "              title=\"Convert this dataframe to an interactive table.\"\n",
              "              style=\"display:none;\">\n",
              "        \n",
              "  <svg xmlns=\"http://www.w3.org/2000/svg\" height=\"24px\"viewBox=\"0 0 24 24\"\n",
              "       width=\"24px\">\n",
              "    <path d=\"M0 0h24v24H0V0z\" fill=\"none\"/>\n",
              "    <path d=\"M18.56 5.44l.94 2.06.94-2.06 2.06-.94-2.06-.94-.94-2.06-.94 2.06-2.06.94zm-11 1L8.5 8.5l.94-2.06 2.06-.94-2.06-.94L8.5 2.5l-.94 2.06-2.06.94zm10 10l.94 2.06.94-2.06 2.06-.94-2.06-.94-.94-2.06-.94 2.06-2.06.94z\"/><path d=\"M17.41 7.96l-1.37-1.37c-.4-.4-.92-.59-1.43-.59-.52 0-1.04.2-1.43.59L10.3 9.45l-7.72 7.72c-.78.78-.78 2.05 0 2.83L4 21.41c.39.39.9.59 1.41.59.51 0 1.02-.2 1.41-.59l7.78-7.78 2.81-2.81c.8-.78.8-2.07 0-2.86zM5.41 20L4 18.59l7.72-7.72 1.47 1.35L5.41 20z\"/>\n",
              "  </svg>\n",
              "      </button>\n",
              "      \n",
              "  <style>\n",
              "    .colab-df-container {\n",
              "      display:flex;\n",
              "      flex-wrap:wrap;\n",
              "      gap: 12px;\n",
              "    }\n",
              "\n",
              "    .colab-df-convert {\n",
              "      background-color: #E8F0FE;\n",
              "      border: none;\n",
              "      border-radius: 50%;\n",
              "      cursor: pointer;\n",
              "      display: none;\n",
              "      fill: #1967D2;\n",
              "      height: 32px;\n",
              "      padding: 0 0 0 0;\n",
              "      width: 32px;\n",
              "    }\n",
              "\n",
              "    .colab-df-convert:hover {\n",
              "      background-color: #E2EBFA;\n",
              "      box-shadow: 0px 1px 2px rgba(60, 64, 67, 0.3), 0px 1px 3px 1px rgba(60, 64, 67, 0.15);\n",
              "      fill: #174EA6;\n",
              "    }\n",
              "\n",
              "    [theme=dark] .colab-df-convert {\n",
              "      background-color: #3B4455;\n",
              "      fill: #D2E3FC;\n",
              "    }\n",
              "\n",
              "    [theme=dark] .colab-df-convert:hover {\n",
              "      background-color: #434B5C;\n",
              "      box-shadow: 0px 1px 3px 1px rgba(0, 0, 0, 0.15);\n",
              "      filter: drop-shadow(0px 1px 2px rgba(0, 0, 0, 0.3));\n",
              "      fill: #FFFFFF;\n",
              "    }\n",
              "  </style>\n",
              "\n",
              "      <script>\n",
              "        const buttonEl =\n",
              "          document.querySelector('#df-84ea60d8-50f7-40e0-8a19-30e2f990e08f button.colab-df-convert');\n",
              "        buttonEl.style.display =\n",
              "          google.colab.kernel.accessAllowed ? 'block' : 'none';\n",
              "\n",
              "        async function convertToInteractive(key) {\n",
              "          const element = document.querySelector('#df-84ea60d8-50f7-40e0-8a19-30e2f990e08f');\n",
              "          const dataTable =\n",
              "            await google.colab.kernel.invokeFunction('convertToInteractive',\n",
              "                                                     [key], {});\n",
              "          if (!dataTable) return;\n",
              "\n",
              "          const docLinkHtml = 'Like what you see? Visit the ' +\n",
              "            '<a target=\"_blank\" href=https://colab.research.google.com/notebooks/data_table.ipynb>data table notebook</a>'\n",
              "            + ' to learn more about interactive tables.';\n",
              "          element.innerHTML = '';\n",
              "          dataTable['output_type'] = 'display_data';\n",
              "          await google.colab.output.renderOutput(dataTable, element);\n",
              "          const docLink = document.createElement('div');\n",
              "          docLink.innerHTML = docLinkHtml;\n",
              "          element.appendChild(docLink);\n",
              "        }\n",
              "      </script>\n",
              "    </div>\n",
              "  </div>\n",
              "  "
            ]
          },
          "metadata": {},
          "execution_count": 142
        }
      ]
    },
    {
      "cell_type": "code",
      "source": [
        "# Agora iremos guardar em uma lista as datas referentes a cada linha de dados do nosso CSV \n",
        "dates = mdates.datestr2num(dataset['dt_referencia'].tolist())\n",
        "\n",
        "# Vamos filtrar os dados sobre a qtd. de casos confirmados\n",
        "confirmedCases = dataset['confirmados'].tolist()\n",
        "\n",
        "# Plotando os dados (casos confirmados de COVID-19 entre Abril de 2020 e ?? de 2022 em PE)\n",
        "fig, ax = plt.subplots()\n",
        "ax.yaxis_date()\n",
        "\n",
        "plt.plot(confirmedCases, dates)\n",
        "plt.xlabel(\"Confirmed cases (infecteds)\")\n",
        "plt.ylabel(\"Date\")"
      ],
      "metadata": {
        "colab": {
          "base_uri": "https://localhost:8080/",
          "height": 300
        },
        "id": "L8-9tRGIRb6C",
        "outputId": "1974ebdd-6af4-4cb1-feb9-d55deb14decf"
      },
      "execution_count": null,
      "outputs": [
        {
          "output_type": "execute_result",
          "data": {
            "text/plain": [
              "Text(0, 0.5, 'Date')"
            ]
          },
          "metadata": {},
          "execution_count": 143
        },
        {
          "output_type": "display_data",
          "data": {
            "text/plain": [
              "<Figure size 432x288 with 1 Axes>"
            ],
            "image/png": "[encoded data removed]"
          },
          "metadata": {
            "needs_background": "light"
          }
        }
      ]
    },
    {
      "cell_type": "code",
      "source": [
        "# Agora vamos filtrar os dados sobre a qtd. de mortes\n",
        "deaths = dataset['obitos'].tolist()\n",
        "\n",
        "# Plotando os dados (mortes por COVID-19 entre Abril de 2020 e ?? de 2022 em PE)\n",
        "fig, ax = plt.subplots()\n",
        "ax.yaxis_date()\n",
        "\n",
        "plt.plot(deaths, dates)\n",
        "plt.xlabel(\"Deaths\")\n",
        "plt.ylabel(\"Date\")"
      ],
      "metadata": {
        "colab": {
          "base_uri": "https://localhost:8080/",
          "height": 300
        },
        "id": "Qbv_J4wxew9D",
        "outputId": "7d9c38d9-d090-4bbd-978e-e7ac6a683648"
      },
      "execution_count": null,
      "outputs": [
        {
          "output_type": "execute_result",
          "data": {
            "text/plain": [
              "Text(0, 0.5, 'Date')"
            ]
          },
          "metadata": {},
          "execution_count": 144
        },
        {
          "output_type": "display_data",
          "data": {
            "text/plain": [
              "<Figure size 432x288 with 1 Axes>"
            ],
            "image/png": "[encoded data removed]"
          },
          "metadata": {
            "needs_background": "light"
          }
        }
      ]
    },
    {
      "cell_type": "code",
      "source": [
        "# Por fim, vamos filtar a qtd. de recuperados\n",
        "recovereds = dataset['recuperados'].tolist()\n",
        "\n",
        "# Plotando os dados (recuperados da COVID-19 entre Abril de 2020 e ?? de 2022 em PE)\n",
        "fig, ax = plt.subplots()\n",
        "ax.yaxis_date()\n",
        "\n",
        "plt.plot(recovereds, dates)\n",
        "plt.xlabel(\"Recovereds\")\n",
        "plt.ylabel(\"Date\")"
      ],
      "metadata": {
        "colab": {
          "base_uri": "https://localhost:8080/",
          "height": 300
        },
        "id": "1UcBLI-agsnx",
        "outputId": "69dfac9f-bb3b-42ba-bd16-f86b6d8b7140"
      },
      "execution_count": null,
      "outputs": [
        {
          "output_type": "execute_result",
          "data": {
            "text/plain": [
              "Text(0, 0.5, 'Date')"
            ]
          },
          "metadata": {},
          "execution_count": 149
        },
        {
          "output_type": "display_data",
          "data": {
            "text/plain": [
              "<Figure size 432x288 with 1 Axes>"
            ],
            "image/png": "[encoded data removed]"
          },
          "metadata": {
            "needs_background": "light"
          }
        }
      ]
    },
    {
      "cell_type": "code",
      "source": [
        "# Agora vamos plotar um gráfico contendo a qtd. de casos confirmados, a qtd. de mortos e a qtd. de recuperados\n",
        "fig, ax = plt.subplots()\n",
        "ax.yaxis_date()\n",
        "\n",
        "plt.plot(confirmedCases, dates, label=\"Infecteds\")\n",
        "plt.plot(recovereds, dates, label=\"Recovereds\")\n",
        "plt.plot(deaths, dates, label=\"Deaths\")\n",
        "\n",
        "plt.ylabel(\"Date\")\n",
        "plt.legend()"
      ],
      "metadata": {
        "colab": {
          "base_uri": "https://localhost:8080/",
          "height": 299
        },
        "id": "VceYhlfYhIpM",
        "outputId": "62764225-f864-4554-c17b-6eba48d2700a"
      },
      "execution_count": null,
      "outputs": [
        {
          "output_type": "execute_result",
          "data": {
            "text/plain": [
              "<matplotlib.legend.Legend at 0x7f279177d350>"
            ]
          },
          "metadata": {},
          "execution_count": 150
        },
        {
          "output_type": "display_data",
          "data": {
            "text/plain": [
              "<Figure size 432x288 with 1 Axes>"
            ],
            "image/png": "[encoded data removed]"
          },
          "metadata": {
            "needs_background": "light"
          }
        }
      ]
    }
  ]
}